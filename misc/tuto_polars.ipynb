{
 "cells": [
  {
   "cell_type": "markdown",
   "metadata": {},
   "source": [
    "# Tutoriel polars"
   ]
  },
  {
   "cell_type": "markdown",
   "metadata": {},
   "source": [
    "### Importation du module (par convention on le nomme pl)"
   ]
  },
  {
   "cell_type": "code",
   "execution_count": 134,
   "metadata": {},
   "outputs": [],
   "source": [
    "import polars as pl"
   ]
  },
  {
   "cell_type": "markdown",
   "metadata": {},
   "source": [
    "Polars est une bibliothèque de manipulation de données rapide et performante pour Python, conçue pour traiter des datasets volumineux et complexes en utilisant une approche basée sur les DataFrames, similaire à **pandas**, mais avec des performances et une scalabilité améliorées grâce à l'optimisation en mémoire et à la parallélisation du traitement.\n",
    "\n",
    "Lien vers la documentation officielle : https://docs.pola.rs/\n",
    "\n",
    "<small> A noter : Il est recommandé d'utiliser l'extension VSCode Data Wrangler pour afficher les df de manière plus agréable (https://marketplace.visualstudio.com/items?itemName=ms-toolsai.datawrangler). Vous pouvez la télécharger depuis ce lien ou directement depuis le store d'extensions VSCode"
   ]
  },
  {
   "cell_type": "markdown",
   "metadata": {},
   "source": [
    "### Charger un DataFrame à partir d'un fichier CSV"
   ]
  },
  {
   "cell_type": "code",
   "execution_count": 135,
   "metadata": {},
   "outputs": [
    {
     "data": {
      "text/html": [
       "<div><style>\n",
       ".dataframe > thead > tr,\n",
       ".dataframe > tbody > tr {\n",
       "  text-align: right;\n",
       "  white-space: pre-wrap;\n",
       "}\n",
       "</style>\n",
       "<small>shape: (453, 7)</small><table border=\"1\" class=\"dataframe\"><thead><tr><th>cd_table</th><th>cd_trajectoire</th><th>dt_trajectoire</th><th>cd_ct_ref</th><th>maturite</th><th>cd_choc_s2_gse</th><th>tzc</th></tr><tr><td>str</td><td>str</td><td>str</td><td>str</td><td>i64</td><td>str</td><td>f64</td></tr></thead><tbody><tr><td>&quot;reel 2212 officielle&quot;</td><td>&quot;reel&quot;</td><td>&quot;2022-12-31&quot;</td><td>&quot;officielle&quot;</td><td>0</td><td>&quot;CENTRAL&quot;</td><td>0.0</td></tr><tr><td>&quot;reel 2212 officielle&quot;</td><td>&quot;reel&quot;</td><td>&quot;2022-12-31&quot;</td><td>&quot;officielle&quot;</td><td>1</td><td>&quot;CENTRAL&quot;</td><td>0.03176</td></tr><tr><td>&quot;reel 2212 officielle&quot;</td><td>&quot;reel&quot;</td><td>&quot;2022-12-31&quot;</td><td>&quot;officielle&quot;</td><td>2</td><td>&quot;CENTRAL&quot;</td><td>0.03295</td></tr><tr><td>&quot;reel 2212 officielle&quot;</td><td>&quot;reel&quot;</td><td>&quot;2022-12-31&quot;</td><td>&quot;officielle&quot;</td><td>3</td><td>&quot;CENTRAL&quot;</td><td>0.03203</td></tr><tr><td>&quot;reel 2212 officielle&quot;</td><td>&quot;reel&quot;</td><td>&quot;2022-12-31&quot;</td><td>&quot;officielle&quot;</td><td>4</td><td>&quot;CENTRAL&quot;</td><td>0.03152</td></tr><tr><td>&hellip;</td><td>&hellip;</td><td>&hellip;</td><td>&hellip;</td><td>&hellip;</td><td>&hellip;</td><td>&hellip;</td></tr><tr><td>&quot;reel 2212 officielle&quot;</td><td>&quot;reel&quot;</td><td>&quot;2022-12-31&quot;</td><td>&quot;officielle&quot;</td><td>146</td><td>&quot;RATES_UP&quot;</td><td>0.0428</td></tr><tr><td>&quot;reel 2212 officielle&quot;</td><td>&quot;reel&quot;</td><td>&quot;2022-12-31&quot;</td><td>&quot;officielle&quot;</td><td>147</td><td>&quot;RATES_UP&quot;</td><td>0.04281</td></tr><tr><td>&quot;reel 2212 officielle&quot;</td><td>&quot;reel&quot;</td><td>&quot;2022-12-31&quot;</td><td>&quot;officielle&quot;</td><td>148</td><td>&quot;RATES_UP&quot;</td><td>0.04282</td></tr><tr><td>&quot;reel 2212 officielle&quot;</td><td>&quot;reel&quot;</td><td>&quot;2022-12-31&quot;</td><td>&quot;officielle&quot;</td><td>149</td><td>&quot;RATES_UP&quot;</td><td>0.04283</td></tr><tr><td>&quot;reel 2212 officielle&quot;</td><td>&quot;reel&quot;</td><td>&quot;2022-12-31&quot;</td><td>&quot;officielle&quot;</td><td>150</td><td>&quot;RATES_UP&quot;</td><td>0.04284</td></tr></tbody></table></div>"
      ],
      "text/plain": [
       "shape: (453, 7)\n",
       "┌────────────┬─────────────────┬────────────────┬────────────┬──────────┬────────────────┬─────────┐\n",
       "│ cd_table   ┆ cd_trajectoire  ┆ dt_trajectoire ┆ cd_ct_ref  ┆ maturite ┆ cd_choc_s2_gse ┆ tzc     │\n",
       "│ ---        ┆ ---             ┆ ---            ┆ ---        ┆ ---      ┆ ---            ┆ ---     │\n",
       "│ str        ┆ str             ┆ str            ┆ str        ┆ i64      ┆ str            ┆ f64     │\n",
       "╞════════════╪═════════════════╪════════════════╪════════════╪══════════╪════════════════╪═════════╡\n",
       "│ reel 2212  ┆ reel            ┆ 2022-12-31     ┆ officielle ┆ 0        ┆ CENTRAL        ┆ 0.0     │\n",
       "│ officielle ┆                 ┆                ┆            ┆          ┆                ┆         │\n",
       "│ reel 2212  ┆ reel            ┆ 2022-12-31     ┆ officielle ┆ 1        ┆ CENTRAL        ┆ 0.03176 │\n",
       "│ officielle ┆                 ┆                ┆            ┆          ┆                ┆         │\n",
       "│ reel 2212  ┆ reel            ┆ 2022-12-31     ┆ officielle ┆ 2        ┆ CENTRAL        ┆ 0.03295 │\n",
       "│ officielle ┆                 ┆                ┆            ┆          ┆                ┆         │\n",
       "│ reel 2212  ┆ reel            ┆ 2022-12-31     ┆ officielle ┆ 3        ┆ CENTRAL        ┆ 0.03203 │\n",
       "│ officielle ┆                 ┆                ┆            ┆          ┆                ┆         │\n",
       "│ reel 2212  ┆ reel            ┆ 2022-12-31     ┆ officielle ┆ 4        ┆ CENTRAL        ┆ 0.03152 │\n",
       "│ officielle ┆                 ┆                ┆            ┆          ┆                ┆         │\n",
       "│ …          ┆ …               ┆ …              ┆ …          ┆ …        ┆ …              ┆ …       │\n",
       "│ reel 2212  ┆ reel            ┆ 2022-12-31     ┆ officielle ┆ 146      ┆ RATES_UP       ┆ 0.0428  │\n",
       "│ officielle ┆                 ┆                ┆            ┆          ┆                ┆         │\n",
       "│ reel 2212  ┆ reel            ┆ 2022-12-31     ┆ officielle ┆ 147      ┆ RATES_UP       ┆ 0.04281 │\n",
       "│ officielle ┆                 ┆                ┆            ┆          ┆                ┆         │\n",
       "│ reel 2212  ┆ reel            ┆ 2022-12-31     ┆ officielle ┆ 148      ┆ RATES_UP       ┆ 0.04282 │\n",
       "│ officielle ┆                 ┆                ┆            ┆          ┆                ┆         │\n",
       "│ reel 2212  ┆ reel            ┆ 2022-12-31     ┆ officielle ┆ 149      ┆ RATES_UP       ┆ 0.04283 │\n",
       "│ officielle ┆                 ┆                ┆            ┆          ┆                ┆         │\n",
       "│ reel 2212  ┆ reel            ┆ 2022-12-31     ┆ officielle ┆ 150      ┆ RATES_UP       ┆ 0.04284 │\n",
       "│ officielle ┆                 ┆                ┆            ┆          ┆                ┆         │\n",
       "└────────────┴─────────────────┴────────────────┴────────────┴──────────┴────────────────┴─────────┘"
      ]
     },
     "execution_count": 135,
     "metadata": {},
     "output_type": "execute_result"
    }
   ],
   "source": [
    "dfTzc = pl.read_csv(\"../data/alm_detrn_central_2212/inputs/gse_ct_ref.csv\")\n",
    "dfTzc"
   ]
  },
  {
   "cell_type": "markdown",
   "metadata": {},
   "source": [
    "### Ajout d'une colonne avec la fonction *with_colums*\n",
    "\n",
    "Il suffit d'écrire l'expression de la colonne que vous souhaitez rajouter dans le *with_colums*. Pour utiliser une colonne déjà existante, vous devez utiliser la fonction *pl.col* afin d'indiquer sur quelle(s) colonne(s) vous travaillez. Enfin, pour lui donner un nom il faut utiliser la fonction *alias* sur l'ensemble de l'expression calculée. "
   ]
  },
  {
   "cell_type": "code",
   "execution_count": 136,
   "metadata": {},
   "outputs": [
    {
     "data": {
      "text/html": [
       "<div><style>\n",
       ".dataframe > thead > tr,\n",
       ".dataframe > tbody > tr {\n",
       "  text-align: right;\n",
       "  white-space: pre-wrap;\n",
       "}\n",
       "</style>\n",
       "<small>shape: (453, 9)</small><table border=\"1\" class=\"dataframe\"><thead><tr><th>cd_table</th><th>cd_trajectoire</th><th>dt_trajectoire</th><th>cd_ct_ref</th><th>maturite</th><th>cd_choc_s2_gse</th><th>tzc</th><th>tzc_pourcent</th><th>pzc</th></tr><tr><td>str</td><td>str</td><td>str</td><td>str</td><td>i64</td><td>str</td><td>f64</td><td>f64</td><td>f64</td></tr></thead><tbody><tr><td>&quot;reel 2212 officielle&quot;</td><td>&quot;reel&quot;</td><td>&quot;2022-12-31&quot;</td><td>&quot;officielle&quot;</td><td>0</td><td>&quot;CENTRAL&quot;</td><td>0.0</td><td>0.0</td><td>1.0</td></tr><tr><td>&quot;reel 2212 officielle&quot;</td><td>&quot;reel&quot;</td><td>&quot;2022-12-31&quot;</td><td>&quot;officielle&quot;</td><td>1</td><td>&quot;CENTRAL&quot;</td><td>0.03176</td><td>3.176</td><td>0.969218</td></tr><tr><td>&quot;reel 2212 officielle&quot;</td><td>&quot;reel&quot;</td><td>&quot;2022-12-31&quot;</td><td>&quot;officielle&quot;</td><td>2</td><td>&quot;CENTRAL&quot;</td><td>0.03295</td><td>3.295</td><td>0.93722</td></tr><tr><td>&quot;reel 2212 officielle&quot;</td><td>&quot;reel&quot;</td><td>&quot;2022-12-31&quot;</td><td>&quot;officielle&quot;</td><td>3</td><td>&quot;CENTRAL&quot;</td><td>0.03203</td><td>3.203</td><td>0.909752</td></tr><tr><td>&quot;reel 2212 officielle&quot;</td><td>&quot;reel&quot;</td><td>&quot;2022-12-31&quot;</td><td>&quot;officielle&quot;</td><td>4</td><td>&quot;CENTRAL&quot;</td><td>0.03152</td><td>3.152</td><td>0.883262</td></tr><tr><td>&hellip;</td><td>&hellip;</td><td>&hellip;</td><td>&hellip;</td><td>&hellip;</td><td>&hellip;</td><td>&hellip;</td><td>&hellip;</td><td>&hellip;</td></tr><tr><td>&quot;reel 2212 officielle&quot;</td><td>&quot;reel&quot;</td><td>&quot;2022-12-31&quot;</td><td>&quot;officielle&quot;</td><td>146</td><td>&quot;RATES_UP&quot;</td><td>0.0428</td><td>4.28</td><td>0.002201</td></tr><tr><td>&quot;reel 2212 officielle&quot;</td><td>&quot;reel&quot;</td><td>&quot;2022-12-31&quot;</td><td>&quot;officielle&quot;</td><td>147</td><td>&quot;RATES_UP&quot;</td><td>0.04281</td><td>4.281</td><td>0.002108</td></tr><tr><td>&quot;reel 2212 officielle&quot;</td><td>&quot;reel&quot;</td><td>&quot;2022-12-31&quot;</td><td>&quot;officielle&quot;</td><td>148</td><td>&quot;RATES_UP&quot;</td><td>0.04282</td><td>4.282</td><td>0.002018</td></tr><tr><td>&quot;reel 2212 officielle&quot;</td><td>&quot;reel&quot;</td><td>&quot;2022-12-31&quot;</td><td>&quot;officielle&quot;</td><td>149</td><td>&quot;RATES_UP&quot;</td><td>0.04283</td><td>4.283</td><td>0.001933</td></tr><tr><td>&quot;reel 2212 officielle&quot;</td><td>&quot;reel&quot;</td><td>&quot;2022-12-31&quot;</td><td>&quot;officielle&quot;</td><td>150</td><td>&quot;RATES_UP&quot;</td><td>0.04284</td><td>4.284</td><td>0.001851</td></tr></tbody></table></div>"
      ],
      "text/plain": [
       "shape: (453, 9)\n",
       "┌────────────┬────────────┬───────────┬───────────┬───┬───────────┬─────────┬───────────┬──────────┐\n",
       "│ cd_table   ┆ cd_traject ┆ dt_trajec ┆ cd_ct_ref ┆ … ┆ cd_choc_s ┆ tzc     ┆ tzc_pourc ┆ pzc      │\n",
       "│ ---        ┆ oire       ┆ toire     ┆ ---       ┆   ┆ 2_gse     ┆ ---     ┆ ent       ┆ ---      │\n",
       "│ str        ┆ ---        ┆ ---       ┆ str       ┆   ┆ ---       ┆ f64     ┆ ---       ┆ f64      │\n",
       "│            ┆ str        ┆ str       ┆           ┆   ┆ str       ┆         ┆ f64       ┆          │\n",
       "╞════════════╪════════════╪═══════════╪═══════════╪═══╪═══════════╪═════════╪═══════════╪══════════╡\n",
       "│ reel 2212  ┆ reel       ┆ 2022-12-3 ┆ officiell ┆ … ┆ CENTRAL   ┆ 0.0     ┆ 0.0       ┆ 1.0      │\n",
       "│ officielle ┆            ┆ 1         ┆ e         ┆   ┆           ┆         ┆           ┆          │\n",
       "│ reel 2212  ┆ reel       ┆ 2022-12-3 ┆ officiell ┆ … ┆ CENTRAL   ┆ 0.03176 ┆ 3.176     ┆ 0.969218 │\n",
       "│ officielle ┆            ┆ 1         ┆ e         ┆   ┆           ┆         ┆           ┆          │\n",
       "│ reel 2212  ┆ reel       ┆ 2022-12-3 ┆ officiell ┆ … ┆ CENTRAL   ┆ 0.03295 ┆ 3.295     ┆ 0.93722  │\n",
       "│ officielle ┆            ┆ 1         ┆ e         ┆   ┆           ┆         ┆           ┆          │\n",
       "│ reel 2212  ┆ reel       ┆ 2022-12-3 ┆ officiell ┆ … ┆ CENTRAL   ┆ 0.03203 ┆ 3.203     ┆ 0.909752 │\n",
       "│ officielle ┆            ┆ 1         ┆ e         ┆   ┆           ┆         ┆           ┆          │\n",
       "│ reel 2212  ┆ reel       ┆ 2022-12-3 ┆ officiell ┆ … ┆ CENTRAL   ┆ 0.03152 ┆ 3.152     ┆ 0.883262 │\n",
       "│ officielle ┆            ┆ 1         ┆ e         ┆   ┆           ┆         ┆           ┆          │\n",
       "│ …          ┆ …          ┆ …         ┆ …         ┆ … ┆ …         ┆ …       ┆ …         ┆ …        │\n",
       "│ reel 2212  ┆ reel       ┆ 2022-12-3 ┆ officiell ┆ … ┆ RATES_UP  ┆ 0.0428  ┆ 4.28      ┆ 0.002201 │\n",
       "│ officielle ┆            ┆ 1         ┆ e         ┆   ┆           ┆         ┆           ┆          │\n",
       "│ reel 2212  ┆ reel       ┆ 2022-12-3 ┆ officiell ┆ … ┆ RATES_UP  ┆ 0.04281 ┆ 4.281     ┆ 0.002108 │\n",
       "│ officielle ┆            ┆ 1         ┆ e         ┆   ┆           ┆         ┆           ┆          │\n",
       "│ reel 2212  ┆ reel       ┆ 2022-12-3 ┆ officiell ┆ … ┆ RATES_UP  ┆ 0.04282 ┆ 4.282     ┆ 0.002018 │\n",
       "│ officielle ┆            ┆ 1         ┆ e         ┆   ┆           ┆         ┆           ┆          │\n",
       "│ reel 2212  ┆ reel       ┆ 2022-12-3 ┆ officiell ┆ … ┆ RATES_UP  ┆ 0.04283 ┆ 4.283     ┆ 0.001933 │\n",
       "│ officielle ┆            ┆ 1         ┆ e         ┆   ┆           ┆         ┆           ┆          │\n",
       "│ reel 2212  ┆ reel       ┆ 2022-12-3 ┆ officiell ┆ … ┆ RATES_UP  ┆ 0.04284 ┆ 4.284     ┆ 0.001851 │\n",
       "│ officielle ┆            ┆ 1         ┆ e         ┆   ┆           ┆         ┆           ┆          │\n",
       "└────────────┴────────────┴───────────┴───────────┴───┴───────────┴─────────┴───────────┴──────────┘"
      ]
     },
     "execution_count": 136,
     "metadata": {},
     "output_type": "execute_result"
    }
   ],
   "source": [
    "dfTzc = dfPzc.with_columns(\n",
    "    (pl.col(\"tzc\")*100).alias(\"tzc_pourcent\")\n",
    "    )\n",
    "dfTzc"
   ]
  },
  {
   "cell_type": "markdown",
   "metadata": {},
   "source": [
    "### Définition d'une fonction qui calcule une colonne\n",
    "Cette fonction à pour but de calculer une nouvelle colonne pour un Df et de lui appliquer le nom donné en alias. Elle retourne une expression polars de type pl.Expr qui contiendra les valeurs pour la colonne ainsi que son nom (ou *alias*)\n",
    "\n",
    "Nous pouvons remarquer que nous définissons les types des inputs et des outputs ainsi que des valeurs par défaut pour les inputs. C'est une bonne pratique de code qu'il est important de respecter quel que soit le projet.\n",
    "\n",
    "Ici, nous souhaitons avoir des str en Input car nous prenons en paramètres des noms de colonnes  \n",
    "\n",
    "<small>  **ATTENTION** : Il faut faire attention aux types des variables utilisées à tout moment. Ici, colpzc est un str car c'est un nom de colonne mais les valeurs dans cette colonne sont bien des float64 "
   ]
  },
  {
   "cell_type": "code",
   "execution_count": 137,
   "metadata": {},
   "outputs": [],
   "source": [
    "def getPzc(colpzc : str = 'tzc', colMaturite : str = 'maturite', alias : str = None) -> pl.Expr:\n",
    "    \n",
    "    expr = 1./(1.+pl.col(\"tzc\"))**(pl.col(\"maturite\"))\n",
    "    \n",
    "    if alias is not None:\n",
    "        expr = expr.alias(alias)\n",
    "    \n",
    "    return expr"
   ]
  },
  {
   "cell_type": "markdown",
   "metadata": {},
   "source": [
    "### Exemple quand la fonction fonctionne car on lui donne les **bons** inputs\n",
    "Quand on ne donne pas la valeur des paramètres (exemple : colTzc) il va chercher la valeur définie par défaut (Ici 'tzc')\n",
    "\n",
    "<small>Ce qui est renvoyé est un exemple de type **pl.Expr** et vous pouvez remarquer que l'expression dans la fonction *getPzc* a été automatiquement traduite en un code polars\n"
   ]
  },
  {
   "cell_type": "code",
   "execution_count": 138,
   "metadata": {},
   "outputs": [
    {
     "data": {
      "text/html": [
       "[(dyn float: 1.0) / ([(dyn float: 1.0) + (col(\"tzc\"))].pow([col(\"maturite\")]))].alias(\"pzc\")"
      ],
      "text/plain": [
       "<Expr ['[(dyn float: 1.0) / ([(dyn flo…'] at 0x1E11C14CAD0>"
      ]
     },
     "execution_count": 138,
     "metadata": {},
     "output_type": "execute_result"
    }
   ],
   "source": [
    "getPzc(alias='pzc')"
   ]
  },
  {
   "cell_type": "markdown",
   "metadata": {},
   "source": [
    "### Exemple quand la fonction ne fonctionne pas car on lui donne les **mauvais** inputs\n",
    "Ici la fonction attend un alias de type *str* et non *int*   \n",
    "<small> Enlevez le commentaire pour tester mais ça empêchera de faire des Run All\n"
   ]
  },
  {
   "cell_type": "code",
   "execution_count": 139,
   "metadata": {},
   "outputs": [],
   "source": [
    "# getPzc(alias=5)"
   ]
  },
  {
   "cell_type": "markdown",
   "metadata": {},
   "source": [
    "### Calcul et ajout de la colonne pzc (fonction *with_columns*) en utilisant une fonction\n"
   ]
  },
  {
   "cell_type": "code",
   "execution_count": 140,
   "metadata": {},
   "outputs": [
    {
     "data": {
      "text/html": [
       "<div><style>\n",
       ".dataframe > thead > tr,\n",
       ".dataframe > tbody > tr {\n",
       "  text-align: right;\n",
       "  white-space: pre-wrap;\n",
       "}\n",
       "</style>\n",
       "<small>shape: (453, 9)</small><table border=\"1\" class=\"dataframe\"><thead><tr><th>cd_table</th><th>cd_trajectoire</th><th>dt_trajectoire</th><th>cd_ct_ref</th><th>maturite</th><th>cd_choc_s2_gse</th><th>tzc</th><th>tzc_pourcent</th><th>pzc</th></tr><tr><td>str</td><td>str</td><td>str</td><td>str</td><td>i64</td><td>str</td><td>f64</td><td>f64</td><td>f64</td></tr></thead><tbody><tr><td>&quot;reel 2212 officielle&quot;</td><td>&quot;reel&quot;</td><td>&quot;2022-12-31&quot;</td><td>&quot;officielle&quot;</td><td>0</td><td>&quot;CENTRAL&quot;</td><td>0.0</td><td>0.0</td><td>1.0</td></tr><tr><td>&quot;reel 2212 officielle&quot;</td><td>&quot;reel&quot;</td><td>&quot;2022-12-31&quot;</td><td>&quot;officielle&quot;</td><td>1</td><td>&quot;CENTRAL&quot;</td><td>0.03176</td><td>3.176</td><td>0.969218</td></tr><tr><td>&quot;reel 2212 officielle&quot;</td><td>&quot;reel&quot;</td><td>&quot;2022-12-31&quot;</td><td>&quot;officielle&quot;</td><td>2</td><td>&quot;CENTRAL&quot;</td><td>0.03295</td><td>3.295</td><td>0.93722</td></tr><tr><td>&quot;reel 2212 officielle&quot;</td><td>&quot;reel&quot;</td><td>&quot;2022-12-31&quot;</td><td>&quot;officielle&quot;</td><td>3</td><td>&quot;CENTRAL&quot;</td><td>0.03203</td><td>3.203</td><td>0.909752</td></tr><tr><td>&quot;reel 2212 officielle&quot;</td><td>&quot;reel&quot;</td><td>&quot;2022-12-31&quot;</td><td>&quot;officielle&quot;</td><td>4</td><td>&quot;CENTRAL&quot;</td><td>0.03152</td><td>3.152</td><td>0.883262</td></tr><tr><td>&hellip;</td><td>&hellip;</td><td>&hellip;</td><td>&hellip;</td><td>&hellip;</td><td>&hellip;</td><td>&hellip;</td><td>&hellip;</td><td>&hellip;</td></tr><tr><td>&quot;reel 2212 officielle&quot;</td><td>&quot;reel&quot;</td><td>&quot;2022-12-31&quot;</td><td>&quot;officielle&quot;</td><td>146</td><td>&quot;RATES_UP&quot;</td><td>0.0428</td><td>4.28</td><td>0.002201</td></tr><tr><td>&quot;reel 2212 officielle&quot;</td><td>&quot;reel&quot;</td><td>&quot;2022-12-31&quot;</td><td>&quot;officielle&quot;</td><td>147</td><td>&quot;RATES_UP&quot;</td><td>0.04281</td><td>4.281</td><td>0.002108</td></tr><tr><td>&quot;reel 2212 officielle&quot;</td><td>&quot;reel&quot;</td><td>&quot;2022-12-31&quot;</td><td>&quot;officielle&quot;</td><td>148</td><td>&quot;RATES_UP&quot;</td><td>0.04282</td><td>4.282</td><td>0.002018</td></tr><tr><td>&quot;reel 2212 officielle&quot;</td><td>&quot;reel&quot;</td><td>&quot;2022-12-31&quot;</td><td>&quot;officielle&quot;</td><td>149</td><td>&quot;RATES_UP&quot;</td><td>0.04283</td><td>4.283</td><td>0.001933</td></tr><tr><td>&quot;reel 2212 officielle&quot;</td><td>&quot;reel&quot;</td><td>&quot;2022-12-31&quot;</td><td>&quot;officielle&quot;</td><td>150</td><td>&quot;RATES_UP&quot;</td><td>0.04284</td><td>4.284</td><td>0.001851</td></tr></tbody></table></div>"
      ],
      "text/plain": [
       "shape: (453, 9)\n",
       "┌────────────┬────────────┬───────────┬───────────┬───┬───────────┬─────────┬───────────┬──────────┐\n",
       "│ cd_table   ┆ cd_traject ┆ dt_trajec ┆ cd_ct_ref ┆ … ┆ cd_choc_s ┆ tzc     ┆ tzc_pourc ┆ pzc      │\n",
       "│ ---        ┆ oire       ┆ toire     ┆ ---       ┆   ┆ 2_gse     ┆ ---     ┆ ent       ┆ ---      │\n",
       "│ str        ┆ ---        ┆ ---       ┆ str       ┆   ┆ ---       ┆ f64     ┆ ---       ┆ f64      │\n",
       "│            ┆ str        ┆ str       ┆           ┆   ┆ str       ┆         ┆ f64       ┆          │\n",
       "╞════════════╪════════════╪═══════════╪═══════════╪═══╪═══════════╪═════════╪═══════════╪══════════╡\n",
       "│ reel 2212  ┆ reel       ┆ 2022-12-3 ┆ officiell ┆ … ┆ CENTRAL   ┆ 0.0     ┆ 0.0       ┆ 1.0      │\n",
       "│ officielle ┆            ┆ 1         ┆ e         ┆   ┆           ┆         ┆           ┆          │\n",
       "│ reel 2212  ┆ reel       ┆ 2022-12-3 ┆ officiell ┆ … ┆ CENTRAL   ┆ 0.03176 ┆ 3.176     ┆ 0.969218 │\n",
       "│ officielle ┆            ┆ 1         ┆ e         ┆   ┆           ┆         ┆           ┆          │\n",
       "│ reel 2212  ┆ reel       ┆ 2022-12-3 ┆ officiell ┆ … ┆ CENTRAL   ┆ 0.03295 ┆ 3.295     ┆ 0.93722  │\n",
       "│ officielle ┆            ┆ 1         ┆ e         ┆   ┆           ┆         ┆           ┆          │\n",
       "│ reel 2212  ┆ reel       ┆ 2022-12-3 ┆ officiell ┆ … ┆ CENTRAL   ┆ 0.03203 ┆ 3.203     ┆ 0.909752 │\n",
       "│ officielle ┆            ┆ 1         ┆ e         ┆   ┆           ┆         ┆           ┆          │\n",
       "│ reel 2212  ┆ reel       ┆ 2022-12-3 ┆ officiell ┆ … ┆ CENTRAL   ┆ 0.03152 ┆ 3.152     ┆ 0.883262 │\n",
       "│ officielle ┆            ┆ 1         ┆ e         ┆   ┆           ┆         ┆           ┆          │\n",
       "│ …          ┆ …          ┆ …         ┆ …         ┆ … ┆ …         ┆ …       ┆ …         ┆ …        │\n",
       "│ reel 2212  ┆ reel       ┆ 2022-12-3 ┆ officiell ┆ … ┆ RATES_UP  ┆ 0.0428  ┆ 4.28      ┆ 0.002201 │\n",
       "│ officielle ┆            ┆ 1         ┆ e         ┆   ┆           ┆         ┆           ┆          │\n",
       "│ reel 2212  ┆ reel       ┆ 2022-12-3 ┆ officiell ┆ … ┆ RATES_UP  ┆ 0.04281 ┆ 4.281     ┆ 0.002108 │\n",
       "│ officielle ┆            ┆ 1         ┆ e         ┆   ┆           ┆         ┆           ┆          │\n",
       "│ reel 2212  ┆ reel       ┆ 2022-12-3 ┆ officiell ┆ … ┆ RATES_UP  ┆ 0.04282 ┆ 4.282     ┆ 0.002018 │\n",
       "│ officielle ┆            ┆ 1         ┆ e         ┆   ┆           ┆         ┆           ┆          │\n",
       "│ reel 2212  ┆ reel       ┆ 2022-12-3 ┆ officiell ┆ … ┆ RATES_UP  ┆ 0.04283 ┆ 4.283     ┆ 0.001933 │\n",
       "│ officielle ┆            ┆ 1         ┆ e         ┆   ┆           ┆         ┆           ┆          │\n",
       "│ reel 2212  ┆ reel       ┆ 2022-12-3 ┆ officiell ┆ … ┆ RATES_UP  ┆ 0.04284 ┆ 4.284     ┆ 0.001851 │\n",
       "│ officielle ┆            ┆ 1         ┆ e         ┆   ┆           ┆         ┆           ┆          │\n",
       "└────────────┴────────────┴───────────┴───────────┴───┴───────────┴─────────┴───────────┴──────────┘"
      ]
     },
     "execution_count": 140,
     "metadata": {},
     "output_type": "execute_result"
    }
   ],
   "source": [
    "dfPzc = dfTzc.with_columns(\n",
    "    getPzc(alias='pzc')\n",
    ")\n",
    "\n",
    "dfPzc"
   ]
  },
  {
   "cell_type": "markdown",
   "metadata": {},
   "source": [
    "### Calculs basiques et statistiques\n",
    "Somme, moyenne et écart type"
   ]
  },
  {
   "cell_type": "code",
   "execution_count": 141,
   "metadata": {},
   "outputs": [
    {
     "data": {
      "text/html": [
       "<div><style>\n",
       ".dataframe > thead > tr,\n",
       ".dataframe > tbody > tr {\n",
       "  text-align: right;\n",
       "  white-space: pre-wrap;\n",
       "}\n",
       "</style>\n",
       "<small>shape: (1, 3)</small><table border=\"1\" class=\"dataframe\"><thead><tr><th>total_pzc</th><th>mean_pzc</th><th>std_pzc</th></tr><tr><td>f64</td><td>f64</td><td>f64</td></tr></thead><tbody><tr><td>102.913248</td><td>0.227182</td><td>0.264567</td></tr></tbody></table></div>"
      ],
      "text/plain": [
       "shape: (1, 3)\n",
       "┌────────────┬──────────┬──────────┐\n",
       "│ total_pzc  ┆ mean_pzc ┆ std_pzc  │\n",
       "│ ---        ┆ ---      ┆ ---      │\n",
       "│ f64        ┆ f64      ┆ f64      │\n",
       "╞════════════╪══════════╪══════════╡\n",
       "│ 102.913248 ┆ 0.227182 ┆ 0.264567 │\n",
       "└────────────┴──────────┴──────────┘"
      ]
     },
     "execution_count": 141,
     "metadata": {},
     "output_type": "execute_result"
    }
   ],
   "source": [
    "df_stats = dfPzc.select([\n",
    "    pl.col(\"pzc\").sum().alias(\"total_pzc\"),\n",
    "    pl.col(\"pzc\").mean().alias(\"mean_pzc\"),\n",
    "    pl.col(\"pzc\").std().alias(\"std_pzc\")\n",
    "])\n",
    "\n",
    "df_stats\n"
   ]
  },
  {
   "cell_type": "markdown",
   "metadata": {},
   "source": [
    "### GroupBy et agrégations"
   ]
  },
  {
   "cell_type": "code",
   "execution_count": 142,
   "metadata": {},
   "outputs": [
    {
     "name": "stderr",
     "output_type": "stream",
     "text": [
      "C:\\Users\\gaylord.legris\\AppData\\Local\\Temp\\ipykernel_8972\\2908050014.py:1: DeprecationWarning: `groupby` is deprecated. It has been renamed to `group_by`.\n",
      "  df_grouped = dfPzc.groupby(\"cd_choc_s2_gse\").agg([\n"
     ]
    },
    {
     "data": {
      "text/html": [
       "<div><style>\n",
       ".dataframe > thead > tr,\n",
       ".dataframe > tbody > tr {\n",
       "  text-align: right;\n",
       "  white-space: pre-wrap;\n",
       "}\n",
       "</style>\n",
       "<small>shape: (3, 3)</small><table border=\"1\" class=\"dataframe\"><thead><tr><th>cd_choc_s2_gse</th><th>mean_tzc</th><th>total_tzc</th></tr><tr><td>str</td><td>f64</td><td>f64</td></tr></thead><tbody><tr><td>&quot;RATES_UP&quot;</td><td>0.04113</td><td>6.21058</td></tr><tr><td>&quot;CENTRAL&quot;</td><td>0.030675</td><td>4.63193</td></tr><tr><td>&quot;RATES_DOWN&quot;</td><td>0.023211</td><td>3.50479</td></tr></tbody></table></div>"
      ],
      "text/plain": [
       "shape: (3, 3)\n",
       "┌────────────────┬──────────┬───────────┐\n",
       "│ cd_choc_s2_gse ┆ mean_tzc ┆ total_tzc │\n",
       "│ ---            ┆ ---      ┆ ---       │\n",
       "│ str            ┆ f64      ┆ f64       │\n",
       "╞════════════════╪══════════╪═══════════╡\n",
       "│ RATES_UP       ┆ 0.04113  ┆ 6.21058   │\n",
       "│ CENTRAL        ┆ 0.030675 ┆ 4.63193   │\n",
       "│ RATES_DOWN     ┆ 0.023211 ┆ 3.50479   │\n",
       "└────────────────┴──────────┴───────────┘"
      ]
     },
     "execution_count": 142,
     "metadata": {},
     "output_type": "execute_result"
    }
   ],
   "source": [
    "df_grouped = dfPzc.groupby(\"cd_choc_s2_gse\").agg([\n",
    "    pl.col(\"tzc\").mean().alias(\"mean_tzc\"),\n",
    "    pl.col(\"tzc\").sum().alias(\"total_tzc\")\n",
    "])\n",
    "\n",
    "df_grouped\n"
   ]
  },
  {
   "cell_type": "markdown",
   "metadata": {},
   "source": [
    "### Selection de quelques colonnes (avec la fonction *select*)\n"
   ]
  },
  {
   "cell_type": "code",
   "execution_count": 143,
   "metadata": {},
   "outputs": [
    {
     "data": {
      "text/html": [
       "<div><style>\n",
       ".dataframe > thead > tr,\n",
       ".dataframe > tbody > tr {\n",
       "  text-align: right;\n",
       "  white-space: pre-wrap;\n",
       "}\n",
       "</style>\n",
       "<small>shape: (453, 3)</small><table border=\"1\" class=\"dataframe\"><thead><tr><th>cd_choc_s2_gse</th><th>maturite</th><th>pzc</th></tr><tr><td>str</td><td>i64</td><td>f64</td></tr></thead><tbody><tr><td>&quot;CENTRAL&quot;</td><td>0</td><td>1.0</td></tr><tr><td>&quot;CENTRAL&quot;</td><td>1</td><td>0.969218</td></tr><tr><td>&quot;CENTRAL&quot;</td><td>2</td><td>0.93722</td></tr><tr><td>&quot;CENTRAL&quot;</td><td>3</td><td>0.909752</td></tr><tr><td>&quot;CENTRAL&quot;</td><td>4</td><td>0.883262</td></tr><tr><td>&hellip;</td><td>&hellip;</td><td>&hellip;</td></tr><tr><td>&quot;RATES_UP&quot;</td><td>146</td><td>0.002201</td></tr><tr><td>&quot;RATES_UP&quot;</td><td>147</td><td>0.002108</td></tr><tr><td>&quot;RATES_UP&quot;</td><td>148</td><td>0.002018</td></tr><tr><td>&quot;RATES_UP&quot;</td><td>149</td><td>0.001933</td></tr><tr><td>&quot;RATES_UP&quot;</td><td>150</td><td>0.001851</td></tr></tbody></table></div>"
      ],
      "text/plain": [
       "shape: (453, 3)\n",
       "┌────────────────┬──────────┬──────────┐\n",
       "│ cd_choc_s2_gse ┆ maturite ┆ pzc      │\n",
       "│ ---            ┆ ---      ┆ ---      │\n",
       "│ str            ┆ i64      ┆ f64      │\n",
       "╞════════════════╪══════════╪══════════╡\n",
       "│ CENTRAL        ┆ 0        ┆ 1.0      │\n",
       "│ CENTRAL        ┆ 1        ┆ 0.969218 │\n",
       "│ CENTRAL        ┆ 2        ┆ 0.93722  │\n",
       "│ CENTRAL        ┆ 3        ┆ 0.909752 │\n",
       "│ CENTRAL        ┆ 4        ┆ 0.883262 │\n",
       "│ …              ┆ …        ┆ …        │\n",
       "│ RATES_UP       ┆ 146      ┆ 0.002201 │\n",
       "│ RATES_UP       ┆ 147      ┆ 0.002108 │\n",
       "│ RATES_UP       ┆ 148      ┆ 0.002018 │\n",
       "│ RATES_UP       ┆ 149      ┆ 0.001933 │\n",
       "│ RATES_UP       ┆ 150      ┆ 0.001851 │\n",
       "└────────────────┴──────────┴──────────┘"
      ]
     },
     "execution_count": 143,
     "metadata": {},
     "output_type": "execute_result"
    }
   ],
   "source": [
    "dfPzc.select(['cd_choc_s2_gse', 'maturite', 'pzc'])"
   ]
  },
  {
   "cell_type": "markdown",
   "metadata": {},
   "source": [
    "### Création d'un DataFrame dfCf (CashFlows)\n"
   ]
  },
  {
   "cell_type": "code",
   "execution_count": 144,
   "metadata": {},
   "outputs": [
    {
     "data": {
      "text/html": [
       "<div><style>\n",
       ".dataframe > thead > tr,\n",
       ".dataframe > tbody > tr {\n",
       "  text-align: right;\n",
       "  white-space: pre-wrap;\n",
       "}\n",
       "</style>\n",
       "<small>shape: (3, 2)</small><table border=\"1\" class=\"dataframe\"><thead><tr><th>maturite</th><th>cf</th></tr><tr><td>i64</td><td>i64</td></tr></thead><tbody><tr><td>1</td><td>40</td></tr><tr><td>2</td><td>50</td></tr><tr><td>3</td><td>60</td></tr></tbody></table></div>"
      ],
      "text/plain": [
       "shape: (3, 2)\n",
       "┌──────────┬─────┐\n",
       "│ maturite ┆ cf  │\n",
       "│ ---      ┆ --- │\n",
       "│ i64      ┆ i64 │\n",
       "╞══════════╪═════╡\n",
       "│ 1        ┆ 40  │\n",
       "│ 2        ┆ 50  │\n",
       "│ 3        ┆ 60  │\n",
       "└──────────┴─────┘"
      ]
     },
     "execution_count": 144,
     "metadata": {},
     "output_type": "execute_result"
    }
   ],
   "source": [
    "dfCf = pl.DataFrame({\n",
    "    \"maturite\": [1, 2, 3],\n",
    "    \"cf\": [40, 50, 60]\n",
    "})\n",
    "\n",
    "dfCf"
   ]
  },
  {
   "cell_type": "markdown",
   "metadata": {},
   "source": [
    "### Exemple de  jointure (fonction *join*)\n",
    "\n"
   ]
  },
  {
   "cell_type": "code",
   "execution_count": 145,
   "metadata": {},
   "outputs": [
    {
     "name": "stderr",
     "output_type": "stream",
     "text": [
      "C:\\Users\\gaylord.legris\\AppData\\Local\\Temp\\ipykernel_8972\\1692973457.py:1: DeprecationWarning: The default coalesce behavior of left join will change to `False` in the next breaking release. Pass `coalesce=True` to keep the current behavior and silence this warning.\n",
      "  df_joined = dfCf.join(dfPzc,how=\"left\", on=\"maturite\")\n"
     ]
    },
    {
     "data": {
      "text/html": [
       "<div><style>\n",
       ".dataframe > thead > tr,\n",
       ".dataframe > tbody > tr {\n",
       "  text-align: right;\n",
       "  white-space: pre-wrap;\n",
       "}\n",
       "</style>\n",
       "<small>shape: (9, 10)</small><table border=\"1\" class=\"dataframe\"><thead><tr><th>maturite</th><th>cf</th><th>cd_table</th><th>cd_trajectoire</th><th>dt_trajectoire</th><th>cd_ct_ref</th><th>cd_choc_s2_gse</th><th>tzc</th><th>tzc_pourcent</th><th>pzc</th></tr><tr><td>i64</td><td>i64</td><td>str</td><td>str</td><td>str</td><td>str</td><td>str</td><td>f64</td><td>f64</td><td>f64</td></tr></thead><tbody><tr><td>1</td><td>40</td><td>&quot;reel 2212 officielle&quot;</td><td>&quot;reel&quot;</td><td>&quot;2022-12-31&quot;</td><td>&quot;officielle&quot;</td><td>&quot;CENTRAL&quot;</td><td>0.03176</td><td>3.176</td><td>0.969218</td></tr><tr><td>1</td><td>40</td><td>&quot;reel 2212 officielle&quot;</td><td>&quot;reel&quot;</td><td>&quot;2022-12-31&quot;</td><td>&quot;officielle&quot;</td><td>&quot;RATES_DOWN&quot;</td><td>0.00794</td><td>0.794</td><td>0.992123</td></tr><tr><td>1</td><td>40</td><td>&quot;reel 2212 officielle&quot;</td><td>&quot;reel&quot;</td><td>&quot;2022-12-31&quot;</td><td>&quot;officielle&quot;</td><td>&quot;RATES_UP&quot;</td><td>0.05399</td><td>5.399</td><td>0.948776</td></tr><tr><td>2</td><td>50</td><td>&quot;reel 2212 officielle&quot;</td><td>&quot;reel&quot;</td><td>&quot;2022-12-31&quot;</td><td>&quot;officielle&quot;</td><td>&quot;CENTRAL&quot;</td><td>0.03295</td><td>3.295</td><td>0.93722</td></tr><tr><td>2</td><td>50</td><td>&quot;reel 2212 officielle&quot;</td><td>&quot;reel&quot;</td><td>&quot;2022-12-31&quot;</td><td>&quot;officielle&quot;</td><td>&quot;RATES_DOWN&quot;</td><td>0.01153</td><td>1.153</td><td>0.977333</td></tr><tr><td>2</td><td>50</td><td>&quot;reel 2212 officielle&quot;</td><td>&quot;reel&quot;</td><td>&quot;2022-12-31&quot;</td><td>&quot;officielle&quot;</td><td>&quot;RATES_UP&quot;</td><td>0.05602</td><td>5.602</td><td>0.896718</td></tr><tr><td>3</td><td>60</td><td>&quot;reel 2212 officielle&quot;</td><td>&quot;reel&quot;</td><td>&quot;2022-12-31&quot;</td><td>&quot;officielle&quot;</td><td>&quot;CENTRAL&quot;</td><td>0.03203</td><td>3.203</td><td>0.909752</td></tr><tr><td>3</td><td>60</td><td>&quot;reel 2212 officielle&quot;</td><td>&quot;reel&quot;</td><td>&quot;2022-12-31&quot;</td><td>&quot;officielle&quot;</td><td>&quot;RATES_DOWN&quot;</td><td>0.01409</td><td>1.409</td><td>0.958894</td></tr><tr><td>3</td><td>60</td><td>&quot;reel 2212 officielle&quot;</td><td>&quot;reel&quot;</td><td>&quot;2022-12-31&quot;</td><td>&quot;officielle&quot;</td><td>&quot;RATES_UP&quot;</td><td>0.05253</td><td>5.253</td><td>0.857623</td></tr></tbody></table></div>"
      ],
      "text/plain": [
       "shape: (9, 10)\n",
       "┌──────────┬─────┬──────────────┬─────────────┬───┬─────────────┬─────────┬─────────────┬──────────┐\n",
       "│ maturite ┆ cf  ┆ cd_table     ┆ cd_trajecto ┆ … ┆ cd_choc_s2_ ┆ tzc     ┆ tzc_pourcen ┆ pzc      │\n",
       "│ ---      ┆ --- ┆ ---          ┆ ire         ┆   ┆ gse         ┆ ---     ┆ t           ┆ ---      │\n",
       "│ i64      ┆ i64 ┆ str          ┆ ---         ┆   ┆ ---         ┆ f64     ┆ ---         ┆ f64      │\n",
       "│          ┆     ┆              ┆ str         ┆   ┆ str         ┆         ┆ f64         ┆          │\n",
       "╞══════════╪═════╪══════════════╪═════════════╪═══╪═════════════╪═════════╪═════════════╪══════════╡\n",
       "│ 1        ┆ 40  ┆ reel 2212    ┆ reel        ┆ … ┆ CENTRAL     ┆ 0.03176 ┆ 3.176       ┆ 0.969218 │\n",
       "│          ┆     ┆ officielle   ┆             ┆   ┆             ┆         ┆             ┆          │\n",
       "│ 1        ┆ 40  ┆ reel 2212    ┆ reel        ┆ … ┆ RATES_DOWN  ┆ 0.00794 ┆ 0.794       ┆ 0.992123 │\n",
       "│          ┆     ┆ officielle   ┆             ┆   ┆             ┆         ┆             ┆          │\n",
       "│ 1        ┆ 40  ┆ reel 2212    ┆ reel        ┆ … ┆ RATES_UP    ┆ 0.05399 ┆ 5.399       ┆ 0.948776 │\n",
       "│          ┆     ┆ officielle   ┆             ┆   ┆             ┆         ┆             ┆          │\n",
       "│ 2        ┆ 50  ┆ reel 2212    ┆ reel        ┆ … ┆ CENTRAL     ┆ 0.03295 ┆ 3.295       ┆ 0.93722  │\n",
       "│          ┆     ┆ officielle   ┆             ┆   ┆             ┆         ┆             ┆          │\n",
       "│ 2        ┆ 50  ┆ reel 2212    ┆ reel        ┆ … ┆ RATES_DOWN  ┆ 0.01153 ┆ 1.153       ┆ 0.977333 │\n",
       "│          ┆     ┆ officielle   ┆             ┆   ┆             ┆         ┆             ┆          │\n",
       "│ 2        ┆ 50  ┆ reel 2212    ┆ reel        ┆ … ┆ RATES_UP    ┆ 0.05602 ┆ 5.602       ┆ 0.896718 │\n",
       "│          ┆     ┆ officielle   ┆             ┆   ┆             ┆         ┆             ┆          │\n",
       "│ 3        ┆ 60  ┆ reel 2212    ┆ reel        ┆ … ┆ CENTRAL     ┆ 0.03203 ┆ 3.203       ┆ 0.909752 │\n",
       "│          ┆     ┆ officielle   ┆             ┆   ┆             ┆         ┆             ┆          │\n",
       "│ 3        ┆ 60  ┆ reel 2212    ┆ reel        ┆ … ┆ RATES_DOWN  ┆ 0.01409 ┆ 1.409       ┆ 0.958894 │\n",
       "│          ┆     ┆ officielle   ┆             ┆   ┆             ┆         ┆             ┆          │\n",
       "│ 3        ┆ 60  ┆ reel 2212    ┆ reel        ┆ … ┆ RATES_UP    ┆ 0.05253 ┆ 5.253       ┆ 0.857623 │\n",
       "│          ┆     ┆ officielle   ┆             ┆   ┆             ┆         ┆             ┆          │\n",
       "└──────────┴─────┴──────────────┴─────────────┴───┴─────────────┴─────────┴─────────────┴──────────┘"
      ]
     },
     "execution_count": 145,
     "metadata": {},
     "output_type": "execute_result"
    }
   ],
   "source": [
    "df_joined = dfCf.join(dfPzc,how=\"left\", on=\"maturite\")\n",
    "\n",
    "df_joined \n"
   ]
  },
  {
   "cell_type": "markdown",
   "metadata": {},
   "source": [
    "### Jointure en appliquant un filtre (fonction *filter*)  \n",
    "Ici on ne garde que les lignes contenant *cd_choc_s2_gse = \"CENTRAL\"*"
   ]
  },
  {
   "cell_type": "code",
   "execution_count": 146,
   "metadata": {},
   "outputs": [
    {
     "name": "stderr",
     "output_type": "stream",
     "text": [
      "C:\\Users\\gaylord.legris\\AppData\\Local\\Temp\\ipykernel_8972\\3075904044.py:1: DeprecationWarning: The default coalesce behavior of left join will change to `False` in the next breaking release. Pass `coalesce=True` to keep the current behavior and silence this warning.\n",
      "  df_joined = dfCf.join(dfPzc.filter(pl.col('cd_choc_s2_gse') == 'CENTRAL'), on=\"maturite\", how=\"left\")\n"
     ]
    },
    {
     "data": {
      "text/html": [
       "<div><style>\n",
       ".dataframe > thead > tr,\n",
       ".dataframe > tbody > tr {\n",
       "  text-align: right;\n",
       "  white-space: pre-wrap;\n",
       "}\n",
       "</style>\n",
       "<small>shape: (3, 10)</small><table border=\"1\" class=\"dataframe\"><thead><tr><th>maturite</th><th>cf</th><th>cd_table</th><th>cd_trajectoire</th><th>dt_trajectoire</th><th>cd_ct_ref</th><th>cd_choc_s2_gse</th><th>tzc</th><th>tzc_pourcent</th><th>pzc</th></tr><tr><td>i64</td><td>i64</td><td>str</td><td>str</td><td>str</td><td>str</td><td>str</td><td>f64</td><td>f64</td><td>f64</td></tr></thead><tbody><tr><td>1</td><td>40</td><td>&quot;reel 2212 officielle&quot;</td><td>&quot;reel&quot;</td><td>&quot;2022-12-31&quot;</td><td>&quot;officielle&quot;</td><td>&quot;CENTRAL&quot;</td><td>0.03176</td><td>3.176</td><td>0.969218</td></tr><tr><td>2</td><td>50</td><td>&quot;reel 2212 officielle&quot;</td><td>&quot;reel&quot;</td><td>&quot;2022-12-31&quot;</td><td>&quot;officielle&quot;</td><td>&quot;CENTRAL&quot;</td><td>0.03295</td><td>3.295</td><td>0.93722</td></tr><tr><td>3</td><td>60</td><td>&quot;reel 2212 officielle&quot;</td><td>&quot;reel&quot;</td><td>&quot;2022-12-31&quot;</td><td>&quot;officielle&quot;</td><td>&quot;CENTRAL&quot;</td><td>0.03203</td><td>3.203</td><td>0.909752</td></tr></tbody></table></div>"
      ],
      "text/plain": [
       "shape: (3, 10)\n",
       "┌──────────┬─────┬──────────────┬─────────────┬───┬─────────────┬─────────┬─────────────┬──────────┐\n",
       "│ maturite ┆ cf  ┆ cd_table     ┆ cd_trajecto ┆ … ┆ cd_choc_s2_ ┆ tzc     ┆ tzc_pourcen ┆ pzc      │\n",
       "│ ---      ┆ --- ┆ ---          ┆ ire         ┆   ┆ gse         ┆ ---     ┆ t           ┆ ---      │\n",
       "│ i64      ┆ i64 ┆ str          ┆ ---         ┆   ┆ ---         ┆ f64     ┆ ---         ┆ f64      │\n",
       "│          ┆     ┆              ┆ str         ┆   ┆ str         ┆         ┆ f64         ┆          │\n",
       "╞══════════╪═════╪══════════════╪═════════════╪═══╪═════════════╪═════════╪═════════════╪══════════╡\n",
       "│ 1        ┆ 40  ┆ reel 2212    ┆ reel        ┆ … ┆ CENTRAL     ┆ 0.03176 ┆ 3.176       ┆ 0.969218 │\n",
       "│          ┆     ┆ officielle   ┆             ┆   ┆             ┆         ┆             ┆          │\n",
       "│ 2        ┆ 50  ┆ reel 2212    ┆ reel        ┆ … ┆ CENTRAL     ┆ 0.03295 ┆ 3.295       ┆ 0.93722  │\n",
       "│          ┆     ┆ officielle   ┆             ┆   ┆             ┆         ┆             ┆          │\n",
       "│ 3        ┆ 60  ┆ reel 2212    ┆ reel        ┆ … ┆ CENTRAL     ┆ 0.03203 ┆ 3.203       ┆ 0.909752 │\n",
       "│          ┆     ┆ officielle   ┆             ┆   ┆             ┆         ┆             ┆          │\n",
       "└──────────┴─────┴──────────────┴─────────────┴───┴─────────────┴─────────┴─────────────┴──────────┘"
      ]
     },
     "execution_count": 146,
     "metadata": {},
     "output_type": "execute_result"
    }
   ],
   "source": [
    "df_joined = dfCf.join(dfPzc.filter(pl.col('cd_choc_s2_gse') == 'CENTRAL'), on=\"maturite\", how=\"left\")\n",
    "\n",
    "df_joined"
   ]
  },
  {
   "cell_type": "markdown",
   "metadata": {},
   "source": [
    "### Exemple d'une jointure croisée  \n",
    "L'utilisation d'un suffixe sert à renommer une colonne déjà existante lors d'un join  \n",
    "Attention !!! Si une colonne ne porte pas déjà le nom initial, le suffixe ne sera pas appliqué  \n",
    "Dans ce cas, il faudra renommer la colonne avec la fonction *rename* comme ce qui suit\n",
    "\n"
   ]
  },
  {
   "cell_type": "code",
   "execution_count": 147,
   "metadata": {},
   "outputs": [
    {
     "data": {
      "text/html": [
       "<div><style>\n",
       ".dataframe > thead > tr,\n",
       ".dataframe > tbody > tr {\n",
       "  text-align: right;\n",
       "  white-space: pre-wrap;\n",
       "}\n",
       "</style>\n",
       "<small>shape: (9, 6)</small><table border=\"1\" class=\"dataframe\"><thead><tr><th>maturite</th><th>cf</th><th>maturite_UC</th><th>cf_UC</th><th>tx</th><th>txPB_UC</th></tr><tr><td>i64</td><td>i64</td><td>i64</td><td>i64</td><td>f64</td><td>f64</td></tr></thead><tbody><tr><td>1</td><td>40</td><td>4</td><td>70</td><td>0.01</td><td>0.06</td></tr><tr><td>1</td><td>40</td><td>5</td><td>80</td><td>0.02</td><td>0.06</td></tr><tr><td>1</td><td>40</td><td>6</td><td>90</td><td>0.015</td><td>0.06</td></tr><tr><td>2</td><td>50</td><td>4</td><td>70</td><td>0.01</td><td>0.06</td></tr><tr><td>2</td><td>50</td><td>5</td><td>80</td><td>0.02</td><td>0.06</td></tr><tr><td>2</td><td>50</td><td>6</td><td>90</td><td>0.015</td><td>0.06</td></tr><tr><td>3</td><td>60</td><td>4</td><td>70</td><td>0.01</td><td>0.06</td></tr><tr><td>3</td><td>60</td><td>5</td><td>80</td><td>0.02</td><td>0.06</td></tr><tr><td>3</td><td>60</td><td>6</td><td>90</td><td>0.015</td><td>0.06</td></tr></tbody></table></div>"
      ],
      "text/plain": [
       "shape: (9, 6)\n",
       "┌──────────┬─────┬─────────────┬───────┬───────┬─────────┐\n",
       "│ maturite ┆ cf  ┆ maturite_UC ┆ cf_UC ┆ tx    ┆ txPB_UC │\n",
       "│ ---      ┆ --- ┆ ---         ┆ ---   ┆ ---   ┆ ---     │\n",
       "│ i64      ┆ i64 ┆ i64         ┆ i64   ┆ f64   ┆ f64     │\n",
       "╞══════════╪═════╪═════════════╪═══════╪═══════╪═════════╡\n",
       "│ 1        ┆ 40  ┆ 4           ┆ 70    ┆ 0.01  ┆ 0.06    │\n",
       "│ 1        ┆ 40  ┆ 5           ┆ 80    ┆ 0.02  ┆ 0.06    │\n",
       "│ 1        ┆ 40  ┆ 6           ┆ 90    ┆ 0.015 ┆ 0.06    │\n",
       "│ 2        ┆ 50  ┆ 4           ┆ 70    ┆ 0.01  ┆ 0.06    │\n",
       "│ 2        ┆ 50  ┆ 5           ┆ 80    ┆ 0.02  ┆ 0.06    │\n",
       "│ 2        ┆ 50  ┆ 6           ┆ 90    ┆ 0.015 ┆ 0.06    │\n",
       "│ 3        ┆ 60  ┆ 4           ┆ 70    ┆ 0.01  ┆ 0.06    │\n",
       "│ 3        ┆ 60  ┆ 5           ┆ 80    ┆ 0.02  ┆ 0.06    │\n",
       "│ 3        ┆ 60  ┆ 6           ┆ 90    ┆ 0.015 ┆ 0.06    │\n",
       "└──────────┴─────┴─────────────┴───────┴───────┴─────────┘"
      ]
     },
     "execution_count": 147,
     "metadata": {},
     "output_type": "execute_result"
    }
   ],
   "source": [
    "dfCf1 = pl.DataFrame({\n",
    "    \"maturite\": [4,5,6],\n",
    "    \"cf\": [70, 80, 90],\n",
    "    \"tx\": [0.01,0.02,0.015],\n",
    "    \"txPB\": [0.06,0.06,0.06]\n",
    "})\n",
    "\n",
    "df_cross = dfCf.join(\n",
    "    dfCf1, \n",
    "    how='cross',\n",
    "    suffix=\"_UC\"\n",
    "    ).rename(\n",
    "        {\"txPB\" : \"txPB_UC\"}\n",
    "    )\n",
    "\n",
    "df_cross\n"
   ]
  },
  {
   "cell_type": "markdown",
   "metadata": {},
   "source": [
    "### Ajout de la colonne prix_actualisé et de la colonne tx_exemple  \n",
    "La fonction *lit*  permet de créer une colonne contenant la valeur souhaitée.\n",
    "\n",
    "<small> Ici, vous pouvez remarquer qu'avec un *with_colums*, nous sommes capable de créer plusieurs colonne en indiquant leurs expressions sous forme de liste.\n",
    "\n"
   ]
  },
  {
   "cell_type": "code",
   "execution_count": 148,
   "metadata": {},
   "outputs": [
    {
     "data": {
      "text/html": [
       "<div><style>\n",
       ".dataframe > thead > tr,\n",
       ".dataframe > tbody > tr {\n",
       "  text-align: right;\n",
       "  white-space: pre-wrap;\n",
       "}\n",
       "</style>\n",
       "<small>shape: (3, 12)</small><table border=\"1\" class=\"dataframe\"><thead><tr><th>maturite</th><th>cf</th><th>cd_table</th><th>cd_trajectoire</th><th>dt_trajectoire</th><th>cd_ct_ref</th><th>cd_choc_s2_gse</th><th>tzc</th><th>tzc_pourcent</th><th>pzc</th><th>prix_actualise</th><th>tx_exemple</th></tr><tr><td>i64</td><td>i64</td><td>str</td><td>str</td><td>str</td><td>str</td><td>str</td><td>f64</td><td>f64</td><td>f64</td><td>f64</td><td>f64</td></tr></thead><tbody><tr><td>1</td><td>40</td><td>&quot;reel 2212 officielle&quot;</td><td>&quot;reel&quot;</td><td>&quot;2022-12-31&quot;</td><td>&quot;officielle&quot;</td><td>&quot;CENTRAL&quot;</td><td>0.03176</td><td>3.176</td><td>0.969218</td><td>38.768706</td><td>0.02</td></tr><tr><td>2</td><td>50</td><td>&quot;reel 2212 officielle&quot;</td><td>&quot;reel&quot;</td><td>&quot;2022-12-31&quot;</td><td>&quot;officielle&quot;</td><td>&quot;CENTRAL&quot;</td><td>0.03295</td><td>3.295</td><td>0.93722</td><td>46.860984</td><td>0.02</td></tr><tr><td>3</td><td>60</td><td>&quot;reel 2212 officielle&quot;</td><td>&quot;reel&quot;</td><td>&quot;2022-12-31&quot;</td><td>&quot;officielle&quot;</td><td>&quot;CENTRAL&quot;</td><td>0.03203</td><td>3.203</td><td>0.909752</td><td>54.585122</td><td>0.02</td></tr></tbody></table></div>"
      ],
      "text/plain": [
       "shape: (3, 12)\n",
       "┌──────────┬─────┬─────────────┬─────────────┬───┬────────────┬──────────┬────────────┬────────────┐\n",
       "│ maturite ┆ cf  ┆ cd_table    ┆ cd_trajecto ┆ … ┆ tzc_pource ┆ pzc      ┆ prix_actua ┆ tx_exemple │\n",
       "│ ---      ┆ --- ┆ ---         ┆ ire         ┆   ┆ nt         ┆ ---      ┆ lise       ┆ ---        │\n",
       "│ i64      ┆ i64 ┆ str         ┆ ---         ┆   ┆ ---        ┆ f64      ┆ ---        ┆ f64        │\n",
       "│          ┆     ┆             ┆ str         ┆   ┆ f64        ┆          ┆ f64        ┆            │\n",
       "╞══════════╪═════╪═════════════╪═════════════╪═══╪════════════╪══════════╪════════════╪════════════╡\n",
       "│ 1        ┆ 40  ┆ reel 2212   ┆ reel        ┆ … ┆ 3.176      ┆ 0.969218 ┆ 38.768706  ┆ 0.02       │\n",
       "│          ┆     ┆ officielle  ┆             ┆   ┆            ┆          ┆            ┆            │\n",
       "│ 2        ┆ 50  ┆ reel 2212   ┆ reel        ┆ … ┆ 3.295      ┆ 0.93722  ┆ 46.860984  ┆ 0.02       │\n",
       "│          ┆     ┆ officielle  ┆             ┆   ┆            ┆          ┆            ┆            │\n",
       "│ 3        ┆ 60  ┆ reel 2212   ┆ reel        ┆ … ┆ 3.203      ┆ 0.909752 ┆ 54.585122  ┆ 0.02       │\n",
       "│          ┆     ┆ officielle  ┆             ┆   ┆            ┆          ┆            ┆            │\n",
       "└──────────┴─────┴─────────────┴─────────────┴───┴────────────┴──────────┴────────────┴────────────┘"
      ]
     },
     "execution_count": 148,
     "metadata": {},
     "output_type": "execute_result"
    }
   ],
   "source": [
    "df_joined = df_joined.with_columns([\n",
    "    (pl.col(\"cf\") * pl.col(\"pzc\")).alias(\"prix_actualise\"),\n",
    "    pl.lit(0.02).alias('tx_exemple')\n",
    "    ])\n",
    "\n",
    "df_joined"
   ]
  },
  {
   "cell_type": "markdown",
   "metadata": {},
   "source": [
    "### Exemple de concaténation (fonction *concat*) de deux Df avec la méthode *vertical*  \n",
    "Les noms et types de colonnes doivent être identiques\n"
   ]
  },
  {
   "cell_type": "code",
   "execution_count": 149,
   "metadata": {},
   "outputs": [
    {
     "data": {
      "text/html": [
       "<div><style>\n",
       ".dataframe > thead > tr,\n",
       ".dataframe > tbody > tr {\n",
       "  text-align: right;\n",
       "  white-space: pre-wrap;\n",
       "}\n",
       "</style>\n",
       "<small>shape: (6, 2)</small><table border=\"1\" class=\"dataframe\"><thead><tr><th>maturite</th><th>cf</th></tr><tr><td>i64</td><td>i64</td></tr></thead><tbody><tr><td>1</td><td>40</td></tr><tr><td>2</td><td>50</td></tr><tr><td>3</td><td>60</td></tr><tr><td>4</td><td>70</td></tr><tr><td>5</td><td>80</td></tr><tr><td>6</td><td>90</td></tr></tbody></table></div>"
      ],
      "text/plain": [
       "shape: (6, 2)\n",
       "┌──────────┬─────┐\n",
       "│ maturite ┆ cf  │\n",
       "│ ---      ┆ --- │\n",
       "│ i64      ┆ i64 │\n",
       "╞══════════╪═════╡\n",
       "│ 1        ┆ 40  │\n",
       "│ 2        ┆ 50  │\n",
       "│ 3        ┆ 60  │\n",
       "│ 4        ┆ 70  │\n",
       "│ 5        ┆ 80  │\n",
       "│ 6        ┆ 90  │\n",
       "└──────────┴─────┘"
      ]
     },
     "execution_count": 149,
     "metadata": {},
     "output_type": "execute_result"
    }
   ],
   "source": [
    "dfCf = pl.DataFrame({\n",
    "    \"maturite\": [1, 2, 3],\n",
    "    \"cf\": [40, 50, 60]\n",
    "})\n",
    "dfCf1 = pl.DataFrame({\n",
    "    \"maturite\": [4,5,6],\n",
    "    \"cf\": [70, 80, 90]\n",
    "})\n",
    "\n",
    "dfCfConcatVert = pl.concat([dfCf, dfCf1], how='vertical')\n",
    "dfCfConcatVert"
   ]
  },
  {
   "cell_type": "markdown",
   "metadata": {},
   "source": [
    "### Exemple de concaténation (fonction *concat*) de deux Df avec la méthode *diagonal*  \n",
    "\n",
    "Cette méthode peut impliquer la création de **null** dans votre Df\n"
   ]
  },
  {
   "cell_type": "code",
   "execution_count": 150,
   "metadata": {},
   "outputs": [
    {
     "data": {
      "text/html": [
       "<div><style>\n",
       ".dataframe > thead > tr,\n",
       ".dataframe > tbody > tr {\n",
       "  text-align: right;\n",
       "  white-space: pre-wrap;\n",
       "}\n",
       "</style>\n",
       "<small>shape: (6, 3)</small><table border=\"1\" class=\"dataframe\"><thead><tr><th>maturite</th><th>cf</th><th>dividendes</th></tr><tr><td>i64</td><td>i64</td><td>i64</td></tr></thead><tbody><tr><td>1</td><td>40</td><td>null</td></tr><tr><td>2</td><td>50</td><td>null</td></tr><tr><td>3</td><td>60</td><td>null</td></tr><tr><td>1</td><td>null</td><td>3</td></tr><tr><td>2</td><td>null</td><td>3</td></tr><tr><td>5</td><td>null</td><td>4</td></tr></tbody></table></div>"
      ],
      "text/plain": [
       "shape: (6, 3)\n",
       "┌──────────┬──────┬────────────┐\n",
       "│ maturite ┆ cf   ┆ dividendes │\n",
       "│ ---      ┆ ---  ┆ ---        │\n",
       "│ i64      ┆ i64  ┆ i64        │\n",
       "╞══════════╪══════╪════════════╡\n",
       "│ 1        ┆ 40   ┆ null       │\n",
       "│ 2        ┆ 50   ┆ null       │\n",
       "│ 3        ┆ 60   ┆ null       │\n",
       "│ 1        ┆ null ┆ 3          │\n",
       "│ 2        ┆ null ┆ 3          │\n",
       "│ 5        ┆ null ┆ 4          │\n",
       "└──────────┴──────┴────────────┘"
      ]
     },
     "execution_count": 150,
     "metadata": {},
     "output_type": "execute_result"
    }
   ],
   "source": [
    "dfCf = pl.DataFrame({\n",
    "    \"maturite\": [1, 2, 3],\n",
    "    \"cf\": [40, 50, 60]\n",
    "})\n",
    "dfCf1 = pl.DataFrame({\n",
    "    \"maturite\": [1, 2, 5],\n",
    "    \"dividendes\": [3, 3, 4]\n",
    "})\n",
    "\n",
    "dfCfConcatDiag = pl.concat([dfCf, dfCf1], how='diagonal')\n",
    "dfCfConcatDiag"
   ]
  },
  {
   "cell_type": "markdown",
   "metadata": {},
   "source": [
    "### Utilisation de conditions (*when*,*then*,*otherwise*)\n",
    "\n",
    "L'utilisation de condiction peut être très utilise pour définir une nouvelle colonne. Vous pouvez aussi enchainer les when then dans le cas où vous avez plus de conditions."
   ]
  },
  {
   "cell_type": "code",
   "execution_count": 151,
   "metadata": {},
   "outputs": [
    {
     "data": {
      "text/html": [
       "<div><style>\n",
       ".dataframe > thead > tr,\n",
       ".dataframe > tbody > tr {\n",
       "  text-align: right;\n",
       "  white-space: pre-wrap;\n",
       "}\n",
       "</style>\n",
       "<small>shape: (453, 10)</small><table border=\"1\" class=\"dataframe\"><thead><tr><th>cd_table</th><th>cd_trajectoire</th><th>dt_trajectoire</th><th>cd_ct_ref</th><th>maturite</th><th>cd_choc_s2_gse</th><th>tzc</th><th>tzc_pourcent</th><th>pzc</th><th>tzc_level</th></tr><tr><td>str</td><td>str</td><td>str</td><td>str</td><td>i64</td><td>str</td><td>f64</td><td>f64</td><td>f64</td><td>str</td></tr></thead><tbody><tr><td>&quot;reel 2212 officielle&quot;</td><td>&quot;reel&quot;</td><td>&quot;2022-12-31&quot;</td><td>&quot;officielle&quot;</td><td>0</td><td>&quot;CENTRAL&quot;</td><td>0.0</td><td>0.0</td><td>1.0</td><td>&quot;LOW&quot;</td></tr><tr><td>&quot;reel 2212 officielle&quot;</td><td>&quot;reel&quot;</td><td>&quot;2022-12-31&quot;</td><td>&quot;officielle&quot;</td><td>1</td><td>&quot;CENTRAL&quot;</td><td>0.03176</td><td>3.176</td><td>0.969218</td><td>&quot;HIGH&quot;</td></tr><tr><td>&quot;reel 2212 officielle&quot;</td><td>&quot;reel&quot;</td><td>&quot;2022-12-31&quot;</td><td>&quot;officielle&quot;</td><td>2</td><td>&quot;CENTRAL&quot;</td><td>0.03295</td><td>3.295</td><td>0.93722</td><td>&quot;HIGH&quot;</td></tr><tr><td>&quot;reel 2212 officielle&quot;</td><td>&quot;reel&quot;</td><td>&quot;2022-12-31&quot;</td><td>&quot;officielle&quot;</td><td>3</td><td>&quot;CENTRAL&quot;</td><td>0.03203</td><td>3.203</td><td>0.909752</td><td>&quot;HIGH&quot;</td></tr><tr><td>&quot;reel 2212 officielle&quot;</td><td>&quot;reel&quot;</td><td>&quot;2022-12-31&quot;</td><td>&quot;officielle&quot;</td><td>4</td><td>&quot;CENTRAL&quot;</td><td>0.03152</td><td>3.152</td><td>0.883262</td><td>&quot;HIGH&quot;</td></tr><tr><td>&hellip;</td><td>&hellip;</td><td>&hellip;</td><td>&hellip;</td><td>&hellip;</td><td>&hellip;</td><td>&hellip;</td><td>&hellip;</td><td>&hellip;</td><td>&hellip;</td></tr><tr><td>&quot;reel 2212 officielle&quot;</td><td>&quot;reel&quot;</td><td>&quot;2022-12-31&quot;</td><td>&quot;officielle&quot;</td><td>146</td><td>&quot;RATES_UP&quot;</td><td>0.0428</td><td>4.28</td><td>0.002201</td><td>&quot;HIGH&quot;</td></tr><tr><td>&quot;reel 2212 officielle&quot;</td><td>&quot;reel&quot;</td><td>&quot;2022-12-31&quot;</td><td>&quot;officielle&quot;</td><td>147</td><td>&quot;RATES_UP&quot;</td><td>0.04281</td><td>4.281</td><td>0.002108</td><td>&quot;HIGH&quot;</td></tr><tr><td>&quot;reel 2212 officielle&quot;</td><td>&quot;reel&quot;</td><td>&quot;2022-12-31&quot;</td><td>&quot;officielle&quot;</td><td>148</td><td>&quot;RATES_UP&quot;</td><td>0.04282</td><td>4.282</td><td>0.002018</td><td>&quot;HIGH&quot;</td></tr><tr><td>&quot;reel 2212 officielle&quot;</td><td>&quot;reel&quot;</td><td>&quot;2022-12-31&quot;</td><td>&quot;officielle&quot;</td><td>149</td><td>&quot;RATES_UP&quot;</td><td>0.04283</td><td>4.283</td><td>0.001933</td><td>&quot;HIGH&quot;</td></tr><tr><td>&quot;reel 2212 officielle&quot;</td><td>&quot;reel&quot;</td><td>&quot;2022-12-31&quot;</td><td>&quot;officielle&quot;</td><td>150</td><td>&quot;RATES_UP&quot;</td><td>0.04284</td><td>4.284</td><td>0.001851</td><td>&quot;HIGH&quot;</td></tr></tbody></table></div>"
      ],
      "text/plain": [
       "shape: (453, 10)\n",
       "┌────────────┬────────────┬───────────┬───────────┬───┬─────────┬───────────┬──────────┬───────────┐\n",
       "│ cd_table   ┆ cd_traject ┆ dt_trajec ┆ cd_ct_ref ┆ … ┆ tzc     ┆ tzc_pourc ┆ pzc      ┆ tzc_level │\n",
       "│ ---        ┆ oire       ┆ toire     ┆ ---       ┆   ┆ ---     ┆ ent       ┆ ---      ┆ ---       │\n",
       "│ str        ┆ ---        ┆ ---       ┆ str       ┆   ┆ f64     ┆ ---       ┆ f64      ┆ str       │\n",
       "│            ┆ str        ┆ str       ┆           ┆   ┆         ┆ f64       ┆          ┆           │\n",
       "╞════════════╪════════════╪═══════════╪═══════════╪═══╪═════════╪═══════════╪══════════╪═══════════╡\n",
       "│ reel 2212  ┆ reel       ┆ 2022-12-3 ┆ officiell ┆ … ┆ 0.0     ┆ 0.0       ┆ 1.0      ┆ LOW       │\n",
       "│ officielle ┆            ┆ 1         ┆ e         ┆   ┆         ┆           ┆          ┆           │\n",
       "│ reel 2212  ┆ reel       ┆ 2022-12-3 ┆ officiell ┆ … ┆ 0.03176 ┆ 3.176     ┆ 0.969218 ┆ HIGH      │\n",
       "│ officielle ┆            ┆ 1         ┆ e         ┆   ┆         ┆           ┆          ┆           │\n",
       "│ reel 2212  ┆ reel       ┆ 2022-12-3 ┆ officiell ┆ … ┆ 0.03295 ┆ 3.295     ┆ 0.93722  ┆ HIGH      │\n",
       "│ officielle ┆            ┆ 1         ┆ e         ┆   ┆         ┆           ┆          ┆           │\n",
       "│ reel 2212  ┆ reel       ┆ 2022-12-3 ┆ officiell ┆ … ┆ 0.03203 ┆ 3.203     ┆ 0.909752 ┆ HIGH      │\n",
       "│ officielle ┆            ┆ 1         ┆ e         ┆   ┆         ┆           ┆          ┆           │\n",
       "│ reel 2212  ┆ reel       ┆ 2022-12-3 ┆ officiell ┆ … ┆ 0.03152 ┆ 3.152     ┆ 0.883262 ┆ HIGH      │\n",
       "│ officielle ┆            ┆ 1         ┆ e         ┆   ┆         ┆           ┆          ┆           │\n",
       "│ …          ┆ …          ┆ …         ┆ …         ┆ … ┆ …       ┆ …         ┆ …        ┆ …         │\n",
       "│ reel 2212  ┆ reel       ┆ 2022-12-3 ┆ officiell ┆ … ┆ 0.0428  ┆ 4.28      ┆ 0.002201 ┆ HIGH      │\n",
       "│ officielle ┆            ┆ 1         ┆ e         ┆   ┆         ┆           ┆          ┆           │\n",
       "│ reel 2212  ┆ reel       ┆ 2022-12-3 ┆ officiell ┆ … ┆ 0.04281 ┆ 4.281     ┆ 0.002108 ┆ HIGH      │\n",
       "│ officielle ┆            ┆ 1         ┆ e         ┆   ┆         ┆           ┆          ┆           │\n",
       "│ reel 2212  ┆ reel       ┆ 2022-12-3 ┆ officiell ┆ … ┆ 0.04282 ┆ 4.282     ┆ 0.002018 ┆ HIGH      │\n",
       "│ officielle ┆            ┆ 1         ┆ e         ┆   ┆         ┆           ┆          ┆           │\n",
       "│ reel 2212  ┆ reel       ┆ 2022-12-3 ┆ officiell ┆ … ┆ 0.04283 ┆ 4.283     ┆ 0.001933 ┆ HIGH      │\n",
       "│ officielle ┆            ┆ 1         ┆ e         ┆   ┆         ┆           ┆          ┆           │\n",
       "│ reel 2212  ┆ reel       ┆ 2022-12-3 ┆ officiell ┆ … ┆ 0.04284 ┆ 4.284     ┆ 0.001851 ┆ HIGH      │\n",
       "│ officielle ┆            ┆ 1         ┆ e         ┆   ┆         ┆           ┆          ┆           │\n",
       "└────────────┴────────────┴───────────┴───────────┴───┴─────────┴───────────┴──────────┴───────────┘"
      ]
     },
     "execution_count": 151,
     "metadata": {},
     "output_type": "execute_result"
    }
   ],
   "source": [
    "\n",
    "df_conditional = dfTzc.with_columns([\n",
    "    pl.when(pl.col(\"tzc\") > 0.02).then(pl.lit(\"HIGH\")).otherwise(pl.lit(\"LOW\")).alias(\"tzc_level\")\n",
    "])\n",
    "\n",
    "df_conditional\n"
   ]
  },
  {
   "cell_type": "markdown",
   "metadata": {},
   "source": [
    "Des fonctions telles que *is_null* or *is_not_null* existent en polars également\n",
    "\n",
    "<small> Ici, voici un exemple pour attribuer une valeur aux valeurs décrites comme null précédemment. Ici les deux méthodes font la même chose mais le when peut être utilisé de manière plus globale "
   ]
  },
  {
   "cell_type": "code",
   "execution_count": 152,
   "metadata": {},
   "outputs": [
    {
     "data": {
      "text/html": [
       "<div><style>\n",
       ".dataframe > thead > tr,\n",
       ".dataframe > tbody > tr {\n",
       "  text-align: right;\n",
       "  white-space: pre-wrap;\n",
       "}\n",
       "</style>\n",
       "<small>shape: (6, 3)</small><table border=\"1\" class=\"dataframe\"><thead><tr><th>maturite</th><th>cf</th><th>dividendes</th></tr><tr><td>i64</td><td>i64</td><td>i64</td></tr></thead><tbody><tr><td>1</td><td>40</td><td>0</td></tr><tr><td>2</td><td>50</td><td>0</td></tr><tr><td>3</td><td>60</td><td>0</td></tr><tr><td>1</td><td>3</td><td>3</td></tr><tr><td>2</td><td>3</td><td>3</td></tr><tr><td>5</td><td>4</td><td>4</td></tr></tbody></table></div>"
      ],
      "text/plain": [
       "shape: (6, 3)\n",
       "┌──────────┬─────┬────────────┐\n",
       "│ maturite ┆ cf  ┆ dividendes │\n",
       "│ ---      ┆ --- ┆ ---        │\n",
       "│ i64      ┆ i64 ┆ i64        │\n",
       "╞══════════╪═════╪════════════╡\n",
       "│ 1        ┆ 40  ┆ 0          │\n",
       "│ 2        ┆ 50  ┆ 0          │\n",
       "│ 3        ┆ 60  ┆ 0          │\n",
       "│ 1        ┆ 3   ┆ 3          │\n",
       "│ 2        ┆ 3   ┆ 3          │\n",
       "│ 5        ┆ 4   ┆ 4          │\n",
       "└──────────┴─────┴────────────┘"
      ]
     },
     "execution_count": 152,
     "metadata": {},
     "output_type": "execute_result"
    }
   ],
   "source": [
    "dfCfConcatDiag.with_columns([\n",
    "    pl.when(pl.col(\"cf\").is_null())\n",
    "    .then(pl.col(\"dividendes\"))\n",
    "    .otherwise(pl.col(\"cf\"))\n",
    "    .alias(\"cf\"),\n",
    "    (pl.col(\"dividendes\").fill_null(0))\n",
    "    .alias(\"dividendes\")\n",
    "])\n"
   ]
  },
  {
   "cell_type": "markdown",
   "metadata": {},
   "source": [
    "### Exemple de la fonction *explode*\n",
    "La fonction *explode* transforme chaque élément d'une liste dans une colonne en une nouvelle ligne, tout en dupliquant les autres colonnes, afin de normaliser les données.\n"
   ]
  },
  {
   "cell_type": "code",
   "execution_count": 153,
   "metadata": {},
   "outputs": [
    {
     "name": "stdout",
     "output_type": "stream",
     "text": [
      "shape: (3, 2)\n",
      "┌─────┬───────────┐\n",
      "│ id  ┆ values    │\n",
      "│ --- ┆ ---       │\n",
      "│ i64 ┆ list[i64] │\n",
      "╞═════╪═══════════╡\n",
      "│ 1   ┆ [1, 2, 3] │\n",
      "│ 1   ┆ [4, 5]    │\n",
      "│ 2   ┆ [6, 7, 8] │\n",
      "└─────┴───────────┘\n"
     ]
    },
    {
     "data": {
      "text/html": [
       "<div><style>\n",
       ".dataframe > thead > tr,\n",
       ".dataframe > tbody > tr {\n",
       "  text-align: right;\n",
       "  white-space: pre-wrap;\n",
       "}\n",
       "</style>\n",
       "<small>shape: (8, 2)</small><table border=\"1\" class=\"dataframe\"><thead><tr><th>id</th><th>values</th></tr><tr><td>i64</td><td>i64</td></tr></thead><tbody><tr><td>1</td><td>1</td></tr><tr><td>1</td><td>2</td></tr><tr><td>1</td><td>3</td></tr><tr><td>1</td><td>4</td></tr><tr><td>1</td><td>5</td></tr><tr><td>2</td><td>6</td></tr><tr><td>2</td><td>7</td></tr><tr><td>2</td><td>8</td></tr></tbody></table></div>"
      ],
      "text/plain": [
       "shape: (8, 2)\n",
       "┌─────┬────────┐\n",
       "│ id  ┆ values │\n",
       "│ --- ┆ ---    │\n",
       "│ i64 ┆ i64    │\n",
       "╞═════╪════════╡\n",
       "│ 1   ┆ 1      │\n",
       "│ 1   ┆ 2      │\n",
       "│ 1   ┆ 3      │\n",
       "│ 1   ┆ 4      │\n",
       "│ 1   ┆ 5      │\n",
       "│ 2   ┆ 6      │\n",
       "│ 2   ┆ 7      │\n",
       "│ 2   ┆ 8      │\n",
       "└─────┴────────┘"
      ]
     },
     "execution_count": 153,
     "metadata": {},
     "output_type": "execute_result"
    }
   ],
   "source": [
    "df_explode = pl.DataFrame({\n",
    "    \"id\": [1,1,2],\n",
    "    \"values\": [[1, 2, 3], [4, 5],[6,7,8]]\n",
    "})\n",
    "print(df_explode)\n",
    "df_explode = df_explode.explode(\"values\")\n",
    "\n",
    "\n",
    "df_explode\n"
   ]
  },
  {
   "cell_type": "markdown",
   "metadata": {},
   "source": [
    "### *Pivoting* ou *reshaping* d'un Df avec la fonction *melt*\n",
    "La fonction *melt* convertit des colonnes en lignes, ce qui est particulièrement utile pour la visualisation des données ou pour les préparer à des analyses."
   ]
  },
  {
   "cell_type": "code",
   "execution_count": 154,
   "metadata": {},
   "outputs": [
    {
     "name": "stdout",
     "output_type": "stream",
     "text": [
      "Voici le DataFrame avant utilisation du melt :\n",
      "shape: (3, 4)\n",
      "┌──────────┬──────┬──────┬──────┐\n",
      "│ maturite ┆ cf_a ┆ cf_b ┆ cf_c │\n",
      "│ ---      ┆ ---  ┆ ---  ┆ ---  │\n",
      "│ i64      ┆ i64  ┆ i64  ┆ i64  │\n",
      "╞══════════╪══════╪══════╪══════╡\n",
      "│ 1        ┆ 10   ┆ 40   ┆ 70   │\n",
      "│ 2        ┆ 20   ┆ 50   ┆ 80   │\n",
      "│ 3        ┆ 30   ┆ 60   ┆ 90   │\n",
      "└──────────┴──────┴──────┴──────┘\n"
     ]
    },
    {
     "data": {
      "text/html": [
       "<div><style>\n",
       ".dataframe > thead > tr,\n",
       ".dataframe > tbody > tr {\n",
       "  text-align: right;\n",
       "  white-space: pre-wrap;\n",
       "}\n",
       "</style>\n",
       "<small>shape: (9, 3)</small><table border=\"1\" class=\"dataframe\"><thead><tr><th>maturite</th><th>type_cf</th><th>cf</th></tr><tr><td>i64</td><td>str</td><td>i64</td></tr></thead><tbody><tr><td>1</td><td>&quot;cf_a&quot;</td><td>10</td></tr><tr><td>2</td><td>&quot;cf_a&quot;</td><td>20</td></tr><tr><td>3</td><td>&quot;cf_a&quot;</td><td>30</td></tr><tr><td>1</td><td>&quot;cf_b&quot;</td><td>40</td></tr><tr><td>2</td><td>&quot;cf_b&quot;</td><td>50</td></tr><tr><td>3</td><td>&quot;cf_b&quot;</td><td>60</td></tr><tr><td>1</td><td>&quot;cf_c&quot;</td><td>70</td></tr><tr><td>2</td><td>&quot;cf_c&quot;</td><td>80</td></tr><tr><td>3</td><td>&quot;cf_c&quot;</td><td>90</td></tr></tbody></table></div>"
      ],
      "text/plain": [
       "shape: (9, 3)\n",
       "┌──────────┬─────────┬─────┐\n",
       "│ maturite ┆ type_cf ┆ cf  │\n",
       "│ ---      ┆ ---     ┆ --- │\n",
       "│ i64      ┆ str     ┆ i64 │\n",
       "╞══════════╪═════════╪═════╡\n",
       "│ 1        ┆ cf_a    ┆ 10  │\n",
       "│ 2        ┆ cf_a    ┆ 20  │\n",
       "│ 3        ┆ cf_a    ┆ 30  │\n",
       "│ 1        ┆ cf_b    ┆ 40  │\n",
       "│ 2        ┆ cf_b    ┆ 50  │\n",
       "│ 3        ┆ cf_b    ┆ 60  │\n",
       "│ 1        ┆ cf_c    ┆ 70  │\n",
       "│ 2        ┆ cf_c    ┆ 80  │\n",
       "│ 3        ┆ cf_c    ┆ 90  │\n",
       "└──────────┴─────────┴─────┘"
      ]
     },
     "execution_count": 154,
     "metadata": {},
     "output_type": "execute_result"
    }
   ],
   "source": [
    "df = pl.DataFrame({\n",
    "    \"maturite\": [1, 2, 3],\n",
    "    \"cf_a\": [10, 20, 30],\n",
    "    \"cf_b\": [40, 50, 60],\n",
    "    \"cf_c\": [70, 80, 90]\n",
    "})\n",
    "print(\"Voici le DataFrame avant utilisation du melt :\")\n",
    "print(df)\n",
    "# Application de pl.melt pour transformer en format long\n",
    "melted_df = df.melt(id_vars=\"maturite\", value_vars=[\"cf_a\", \"cf_b\", \"cf_c\"], variable_name=\"type_cf\", value_name=\"cf\")\n",
    "\n",
    "melted_df\n"
   ]
  }
 ],
 "metadata": {
  "kernelspec": {
   "display_name": ".venv",
   "language": "python",
   "name": "python3"
  },
  "language_info": {
   "codemirror_mode": {
    "name": "ipython",
    "version": 3
   },
   "file_extension": ".py",
   "mimetype": "text/x-python",
   "name": "python",
   "nbconvert_exporter": "python",
   "pygments_lexer": "ipython3",
   "version": "3.12.3"
  }
 },
 "nbformat": 4,
 "nbformat_minor": 2
}
